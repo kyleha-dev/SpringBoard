{
  "nbformat": 4,
  "nbformat_minor": 0,
  "metadata": {
    "colab": {
      "name": "Diabetes.ipynb",
      "provenance": [],
      "collapsed_sections": [],
      "toc_visible": true,
      "authorship_tag": "ABX9TyPH+wxYYtioNEwt5JTJUzrK",
      "include_colab_link": true
    },
    "kernelspec": {
      "name": "python3",
      "display_name": "Python 3"
    },
    "language_info": {
      "name": "python"
    }
  },
  "cells": [
    {
      "cell_type": "markdown",
      "metadata": {
        "id": "view-in-github",
        "colab_type": "text"
      },
      "source": [
        "<a href=\"https://colab.research.google.com/github/kyleha-dev/Springboard/blob/main/Diabetes.ipynb\" target=\"_parent\"><img src=\"https://colab.research.google.com/assets/colab-badge.svg\" alt=\"Open In Colab\"/></a>"
      ]
    },
    {
      "cell_type": "markdown",
      "source": [
        "#0.Introduction"
      ],
      "metadata": {
        "id": "QB0mNDIHVLL2"
      }
    },
    {
      "cell_type": "markdown",
      "source": [
        "The goal is to predict whether or not a given female patient will contract diabetes based on features such as BMI, age, and number of pregnancies."
      ],
      "metadata": {
        "id": "ABgM7HC2VSN_"
      }
    },
    {
      "cell_type": "markdown",
      "source": [
        "#1.Import Packages\n"
      ],
      "metadata": {
        "id": "xpc4iU1XZrFa"
      }
    },
    {
      "cell_type": "code",
      "source": [
        "from google.colab import drive\n",
        "drive.mount('/content/gdrive', force_remount=True)"
      ],
      "metadata": {
        "colab": {
          "base_uri": "https://localhost:8080/"
        },
        "id": "K_Hii0xwZs8_",
        "outputId": "12420b4a-dbda-46e0-eddf-d631ac0699fb"
      },
      "execution_count": 61,
      "outputs": [
        {
          "output_type": "stream",
          "name": "stdout",
          "text": [
            "Mounted at /content/gdrive\n"
          ]
        }
      ]
    },
    {
      "cell_type": "code",
      "source": [
        "#\n",
        "import numpy as np\n",
        "import pandas as pd\n",
        "from scipy.stats import randint\n",
        "\n",
        "#\n",
        "import matplotlib.pyplot as plt\n",
        "plt.style.available\n",
        "import seaborn as sns\n",
        "\n",
        "#\n",
        "from sklearn.neighbors import KNeighborsClassifier\n",
        "\n",
        "#\n",
        "from sklearn.linear_model import LogisticRegression\n",
        "from sklearn.linear_model import ElasticNet\n",
        "\n",
        "#\n",
        "from sklearn.tree import DecisionTreeClassifier\n",
        "\n",
        "#\n",
        "from sklearn.metrics import mean_squared_error, classification_report, confusion_matrix\n",
        "from sklearn.metrics import roc_auc_score\n",
        "\n",
        "#\n",
        "from sklearn.model_selection import train_test_split\n",
        "from sklearn.model_selection import cross_val_score\n",
        "from sklearn.model_selection import GridSearchCV\n",
        "from sklearn.model_selection import RandomizedSearchCV"
      ],
      "metadata": {
        "id": "t0zWI0TvZxi5"
      },
      "execution_count": 101,
      "outputs": []
    },
    {
      "cell_type": "markdown",
      "source": [
        "#2.Import Datasets\n"
      ],
      "metadata": {
        "id": "II3qjlxBZ1na"
      }
    },
    {
      "cell_type": "code",
      "source": [
        "df = pd.read_csv('/content/gdrive/MyDrive/ColabNotebooks/Diabetes_healthcare/Data/diabetes.csv')"
      ],
      "metadata": {
        "id": "bdeRZxk2Z1Lz"
      },
      "execution_count": 63,
      "outputs": []
    },
    {
      "cell_type": "markdown",
      "source": [
        "Data source: https://www.kaggle.com/uciml/pima-indians-diabetes-database\n"
      ],
      "metadata": {
        "id": "q0GEa4sCalhE"
      }
    },
    {
      "cell_type": "markdown",
      "source": [
        "The datasets consist of several medical predictor (independent) variables and one target (dependent) variable, Outcome. Independent variables include the number of pregnancies the patient has had, their BMI, insulin level, age, and so on."
      ],
      "metadata": {
        "id": "wO7cUzB7cmfB"
      }
    },
    {
      "cell_type": "markdown",
      "source": [
        "#3.Data Briefing"
      ],
      "metadata": {
        "id": "GNIBTExmbl3e"
      }
    },
    {
      "cell_type": "code",
      "source": [
        "df.info()"
      ],
      "metadata": {
        "colab": {
          "base_uri": "https://localhost:8080/"
        },
        "id": "D11rau0hbppv",
        "outputId": "d0b41ea9-7bb6-4878-a62b-aafa9603bf45"
      },
      "execution_count": 64,
      "outputs": [
        {
          "output_type": "stream",
          "name": "stdout",
          "text": [
            "<class 'pandas.core.frame.DataFrame'>\n",
            "RangeIndex: 768 entries, 0 to 767\n",
            "Data columns (total 9 columns):\n",
            " #   Column       Non-Null Count  Dtype  \n",
            "---  ------       --------------  -----  \n",
            " 0   pregnancies  768 non-null    int64  \n",
            " 1   glucose      768 non-null    int64  \n",
            " 2   diastolic    768 non-null    int64  \n",
            " 3   triceps      768 non-null    int64  \n",
            " 4   insulin      768 non-null    int64  \n",
            " 5   bmi          768 non-null    float64\n",
            " 6   dpf          768 non-null    float64\n",
            " 7   age          768 non-null    int64  \n",
            " 8   diabetes     768 non-null    int64  \n",
            "dtypes: float64(2), int64(7)\n",
            "memory usage: 54.1 KB\n"
          ]
        }
      ]
    },
    {
      "cell_type": "code",
      "source": [
        "df.describe()"
      ],
      "metadata": {
        "colab": {
          "base_uri": "https://localhost:8080/",
          "height": 364
        },
        "id": "bum_7zukbwON",
        "outputId": "d20a741d-c712-4884-e8cc-206b99a02833"
      },
      "execution_count": 65,
      "outputs": [
        {
          "output_type": "execute_result",
          "data": {
            "text/html": [
              "\n",
              "  <div id=\"df-fd278973-0432-4879-badb-eb703a5a720b\">\n",
              "    <div class=\"colab-df-container\">\n",
              "      <div>\n",
              "<style scoped>\n",
              "    .dataframe tbody tr th:only-of-type {\n",
              "        vertical-align: middle;\n",
              "    }\n",
              "\n",
              "    .dataframe tbody tr th {\n",
              "        vertical-align: top;\n",
              "    }\n",
              "\n",
              "    .dataframe thead th {\n",
              "        text-align: right;\n",
              "    }\n",
              "</style>\n",
              "<table border=\"1\" class=\"dataframe\">\n",
              "  <thead>\n",
              "    <tr style=\"text-align: right;\">\n",
              "      <th></th>\n",
              "      <th>pregnancies</th>\n",
              "      <th>glucose</th>\n",
              "      <th>diastolic</th>\n",
              "      <th>triceps</th>\n",
              "      <th>insulin</th>\n",
              "      <th>bmi</th>\n",
              "      <th>dpf</th>\n",
              "      <th>age</th>\n",
              "      <th>diabetes</th>\n",
              "    </tr>\n",
              "  </thead>\n",
              "  <tbody>\n",
              "    <tr>\n",
              "      <th>count</th>\n",
              "      <td>768.000000</td>\n",
              "      <td>768.000000</td>\n",
              "      <td>768.000000</td>\n",
              "      <td>768.000000</td>\n",
              "      <td>768.000000</td>\n",
              "      <td>768.000000</td>\n",
              "      <td>768.000000</td>\n",
              "      <td>768.000000</td>\n",
              "      <td>768.000000</td>\n",
              "    </tr>\n",
              "    <tr>\n",
              "      <th>mean</th>\n",
              "      <td>3.845052</td>\n",
              "      <td>120.894531</td>\n",
              "      <td>69.105469</td>\n",
              "      <td>20.536458</td>\n",
              "      <td>79.799479</td>\n",
              "      <td>31.992578</td>\n",
              "      <td>0.471876</td>\n",
              "      <td>33.240885</td>\n",
              "      <td>0.348958</td>\n",
              "    </tr>\n",
              "    <tr>\n",
              "      <th>std</th>\n",
              "      <td>3.369578</td>\n",
              "      <td>31.972618</td>\n",
              "      <td>19.355807</td>\n",
              "      <td>15.952218</td>\n",
              "      <td>115.244002</td>\n",
              "      <td>7.884160</td>\n",
              "      <td>0.331329</td>\n",
              "      <td>11.760232</td>\n",
              "      <td>0.476951</td>\n",
              "    </tr>\n",
              "    <tr>\n",
              "      <th>min</th>\n",
              "      <td>0.000000</td>\n",
              "      <td>0.000000</td>\n",
              "      <td>0.000000</td>\n",
              "      <td>0.000000</td>\n",
              "      <td>0.000000</td>\n",
              "      <td>0.000000</td>\n",
              "      <td>0.078000</td>\n",
              "      <td>21.000000</td>\n",
              "      <td>0.000000</td>\n",
              "    </tr>\n",
              "    <tr>\n",
              "      <th>25%</th>\n",
              "      <td>1.000000</td>\n",
              "      <td>99.000000</td>\n",
              "      <td>62.000000</td>\n",
              "      <td>0.000000</td>\n",
              "      <td>0.000000</td>\n",
              "      <td>27.300000</td>\n",
              "      <td>0.243750</td>\n",
              "      <td>24.000000</td>\n",
              "      <td>0.000000</td>\n",
              "    </tr>\n",
              "    <tr>\n",
              "      <th>50%</th>\n",
              "      <td>3.000000</td>\n",
              "      <td>117.000000</td>\n",
              "      <td>72.000000</td>\n",
              "      <td>23.000000</td>\n",
              "      <td>30.500000</td>\n",
              "      <td>32.000000</td>\n",
              "      <td>0.372500</td>\n",
              "      <td>29.000000</td>\n",
              "      <td>0.000000</td>\n",
              "    </tr>\n",
              "    <tr>\n",
              "      <th>75%</th>\n",
              "      <td>6.000000</td>\n",
              "      <td>140.250000</td>\n",
              "      <td>80.000000</td>\n",
              "      <td>32.000000</td>\n",
              "      <td>127.250000</td>\n",
              "      <td>36.600000</td>\n",
              "      <td>0.626250</td>\n",
              "      <td>41.000000</td>\n",
              "      <td>1.000000</td>\n",
              "    </tr>\n",
              "    <tr>\n",
              "      <th>max</th>\n",
              "      <td>17.000000</td>\n",
              "      <td>199.000000</td>\n",
              "      <td>122.000000</td>\n",
              "      <td>99.000000</td>\n",
              "      <td>846.000000</td>\n",
              "      <td>67.100000</td>\n",
              "      <td>2.420000</td>\n",
              "      <td>81.000000</td>\n",
              "      <td>1.000000</td>\n",
              "    </tr>\n",
              "  </tbody>\n",
              "</table>\n",
              "</div>\n",
              "      <button class=\"colab-df-convert\" onclick=\"convertToInteractive('df-fd278973-0432-4879-badb-eb703a5a720b')\"\n",
              "              title=\"Convert this dataframe to an interactive table.\"\n",
              "              style=\"display:none;\">\n",
              "        \n",
              "  <svg xmlns=\"http://www.w3.org/2000/svg\" height=\"24px\"viewBox=\"0 0 24 24\"\n",
              "       width=\"24px\">\n",
              "    <path d=\"M0 0h24v24H0V0z\" fill=\"none\"/>\n",
              "    <path d=\"M18.56 5.44l.94 2.06.94-2.06 2.06-.94-2.06-.94-.94-2.06-.94 2.06-2.06.94zm-11 1L8.5 8.5l.94-2.06 2.06-.94-2.06-.94L8.5 2.5l-.94 2.06-2.06.94zm10 10l.94 2.06.94-2.06 2.06-.94-2.06-.94-.94-2.06-.94 2.06-2.06.94z\"/><path d=\"M17.41 7.96l-1.37-1.37c-.4-.4-.92-.59-1.43-.59-.52 0-1.04.2-1.43.59L10.3 9.45l-7.72 7.72c-.78.78-.78 2.05 0 2.83L4 21.41c.39.39.9.59 1.41.59.51 0 1.02-.2 1.41-.59l7.78-7.78 2.81-2.81c.8-.78.8-2.07 0-2.86zM5.41 20L4 18.59l7.72-7.72 1.47 1.35L5.41 20z\"/>\n",
              "  </svg>\n",
              "      </button>\n",
              "      \n",
              "  <style>\n",
              "    .colab-df-container {\n",
              "      display:flex;\n",
              "      flex-wrap:wrap;\n",
              "      gap: 12px;\n",
              "    }\n",
              "\n",
              "    .colab-df-convert {\n",
              "      background-color: #E8F0FE;\n",
              "      border: none;\n",
              "      border-radius: 50%;\n",
              "      cursor: pointer;\n",
              "      display: none;\n",
              "      fill: #1967D2;\n",
              "      height: 32px;\n",
              "      padding: 0 0 0 0;\n",
              "      width: 32px;\n",
              "    }\n",
              "\n",
              "    .colab-df-convert:hover {\n",
              "      background-color: #E2EBFA;\n",
              "      box-shadow: 0px 1px 2px rgba(60, 64, 67, 0.3), 0px 1px 3px 1px rgba(60, 64, 67, 0.15);\n",
              "      fill: #174EA6;\n",
              "    }\n",
              "\n",
              "    [theme=dark] .colab-df-convert {\n",
              "      background-color: #3B4455;\n",
              "      fill: #D2E3FC;\n",
              "    }\n",
              "\n",
              "    [theme=dark] .colab-df-convert:hover {\n",
              "      background-color: #434B5C;\n",
              "      box-shadow: 0px 1px 3px 1px rgba(0, 0, 0, 0.15);\n",
              "      filter: drop-shadow(0px 1px 2px rgba(0, 0, 0, 0.3));\n",
              "      fill: #FFFFFF;\n",
              "    }\n",
              "  </style>\n",
              "\n",
              "      <script>\n",
              "        const buttonEl =\n",
              "          document.querySelector('#df-fd278973-0432-4879-badb-eb703a5a720b button.colab-df-convert');\n",
              "        buttonEl.style.display =\n",
              "          google.colab.kernel.accessAllowed ? 'block' : 'none';\n",
              "\n",
              "        async function convertToInteractive(key) {\n",
              "          const element = document.querySelector('#df-fd278973-0432-4879-badb-eb703a5a720b');\n",
              "          const dataTable =\n",
              "            await google.colab.kernel.invokeFunction('convertToInteractive',\n",
              "                                                     [key], {});\n",
              "          if (!dataTable) return;\n",
              "\n",
              "          const docLinkHtml = 'Like what you see? Visit the ' +\n",
              "            '<a target=\"_blank\" href=https://colab.research.google.com/notebooks/data_table.ipynb>data table notebook</a>'\n",
              "            + ' to learn more about interactive tables.';\n",
              "          element.innerHTML = '';\n",
              "          dataTable['output_type'] = 'display_data';\n",
              "          await google.colab.output.renderOutput(dataTable, element);\n",
              "          const docLink = document.createElement('div');\n",
              "          docLink.innerHTML = docLinkHtml;\n",
              "          element.appendChild(docLink);\n",
              "        }\n",
              "      </script>\n",
              "    </div>\n",
              "  </div>\n",
              "  "
            ],
            "text/plain": [
              "       pregnancies     glucose   diastolic  ...         dpf         age    diabetes\n",
              "count   768.000000  768.000000  768.000000  ...  768.000000  768.000000  768.000000\n",
              "mean      3.845052  120.894531   69.105469  ...    0.471876   33.240885    0.348958\n",
              "std       3.369578   31.972618   19.355807  ...    0.331329   11.760232    0.476951\n",
              "min       0.000000    0.000000    0.000000  ...    0.078000   21.000000    0.000000\n",
              "25%       1.000000   99.000000   62.000000  ...    0.243750   24.000000    0.000000\n",
              "50%       3.000000  117.000000   72.000000  ...    0.372500   29.000000    0.000000\n",
              "75%       6.000000  140.250000   80.000000  ...    0.626250   41.000000    1.000000\n",
              "max      17.000000  199.000000  122.000000  ...    2.420000   81.000000    1.000000\n",
              "\n",
              "[8 rows x 9 columns]"
            ]
          },
          "metadata": {},
          "execution_count": 65
        }
      ]
    },
    {
      "cell_type": "code",
      "source": [
        "df.head()"
      ],
      "metadata": {
        "colab": {
          "base_uri": "https://localhost:8080/",
          "height": 250
        },
        "id": "MOwMzBORb1Vi",
        "outputId": "0a5a1ac6-28e3-4670-efa9-5bc00179eda7"
      },
      "execution_count": 66,
      "outputs": [
        {
          "output_type": "execute_result",
          "data": {
            "text/html": [
              "\n",
              "  <div id=\"df-5becb6bf-3e4c-4722-b3d7-366669d5602c\">\n",
              "    <div class=\"colab-df-container\">\n",
              "      <div>\n",
              "<style scoped>\n",
              "    .dataframe tbody tr th:only-of-type {\n",
              "        vertical-align: middle;\n",
              "    }\n",
              "\n",
              "    .dataframe tbody tr th {\n",
              "        vertical-align: top;\n",
              "    }\n",
              "\n",
              "    .dataframe thead th {\n",
              "        text-align: right;\n",
              "    }\n",
              "</style>\n",
              "<table border=\"1\" class=\"dataframe\">\n",
              "  <thead>\n",
              "    <tr style=\"text-align: right;\">\n",
              "      <th></th>\n",
              "      <th>pregnancies</th>\n",
              "      <th>glucose</th>\n",
              "      <th>diastolic</th>\n",
              "      <th>triceps</th>\n",
              "      <th>insulin</th>\n",
              "      <th>bmi</th>\n",
              "      <th>dpf</th>\n",
              "      <th>age</th>\n",
              "      <th>diabetes</th>\n",
              "    </tr>\n",
              "  </thead>\n",
              "  <tbody>\n",
              "    <tr>\n",
              "      <th>0</th>\n",
              "      <td>6</td>\n",
              "      <td>148</td>\n",
              "      <td>72</td>\n",
              "      <td>35</td>\n",
              "      <td>0</td>\n",
              "      <td>33.6</td>\n",
              "      <td>0.627</td>\n",
              "      <td>50</td>\n",
              "      <td>1</td>\n",
              "    </tr>\n",
              "    <tr>\n",
              "      <th>1</th>\n",
              "      <td>1</td>\n",
              "      <td>85</td>\n",
              "      <td>66</td>\n",
              "      <td>29</td>\n",
              "      <td>0</td>\n",
              "      <td>26.6</td>\n",
              "      <td>0.351</td>\n",
              "      <td>31</td>\n",
              "      <td>0</td>\n",
              "    </tr>\n",
              "    <tr>\n",
              "      <th>2</th>\n",
              "      <td>8</td>\n",
              "      <td>183</td>\n",
              "      <td>64</td>\n",
              "      <td>0</td>\n",
              "      <td>0</td>\n",
              "      <td>23.3</td>\n",
              "      <td>0.672</td>\n",
              "      <td>32</td>\n",
              "      <td>1</td>\n",
              "    </tr>\n",
              "    <tr>\n",
              "      <th>3</th>\n",
              "      <td>1</td>\n",
              "      <td>89</td>\n",
              "      <td>66</td>\n",
              "      <td>23</td>\n",
              "      <td>94</td>\n",
              "      <td>28.1</td>\n",
              "      <td>0.167</td>\n",
              "      <td>21</td>\n",
              "      <td>0</td>\n",
              "    </tr>\n",
              "    <tr>\n",
              "      <th>4</th>\n",
              "      <td>0</td>\n",
              "      <td>137</td>\n",
              "      <td>40</td>\n",
              "      <td>35</td>\n",
              "      <td>168</td>\n",
              "      <td>43.1</td>\n",
              "      <td>2.288</td>\n",
              "      <td>33</td>\n",
              "      <td>1</td>\n",
              "    </tr>\n",
              "  </tbody>\n",
              "</table>\n",
              "</div>\n",
              "      <button class=\"colab-df-convert\" onclick=\"convertToInteractive('df-5becb6bf-3e4c-4722-b3d7-366669d5602c')\"\n",
              "              title=\"Convert this dataframe to an interactive table.\"\n",
              "              style=\"display:none;\">\n",
              "        \n",
              "  <svg xmlns=\"http://www.w3.org/2000/svg\" height=\"24px\"viewBox=\"0 0 24 24\"\n",
              "       width=\"24px\">\n",
              "    <path d=\"M0 0h24v24H0V0z\" fill=\"none\"/>\n",
              "    <path d=\"M18.56 5.44l.94 2.06.94-2.06 2.06-.94-2.06-.94-.94-2.06-.94 2.06-2.06.94zm-11 1L8.5 8.5l.94-2.06 2.06-.94-2.06-.94L8.5 2.5l-.94 2.06-2.06.94zm10 10l.94 2.06.94-2.06 2.06-.94-2.06-.94-.94-2.06-.94 2.06-2.06.94z\"/><path d=\"M17.41 7.96l-1.37-1.37c-.4-.4-.92-.59-1.43-.59-.52 0-1.04.2-1.43.59L10.3 9.45l-7.72 7.72c-.78.78-.78 2.05 0 2.83L4 21.41c.39.39.9.59 1.41.59.51 0 1.02-.2 1.41-.59l7.78-7.78 2.81-2.81c.8-.78.8-2.07 0-2.86zM5.41 20L4 18.59l7.72-7.72 1.47 1.35L5.41 20z\"/>\n",
              "  </svg>\n",
              "      </button>\n",
              "      \n",
              "  <style>\n",
              "    .colab-df-container {\n",
              "      display:flex;\n",
              "      flex-wrap:wrap;\n",
              "      gap: 12px;\n",
              "    }\n",
              "\n",
              "    .colab-df-convert {\n",
              "      background-color: #E8F0FE;\n",
              "      border: none;\n",
              "      border-radius: 50%;\n",
              "      cursor: pointer;\n",
              "      display: none;\n",
              "      fill: #1967D2;\n",
              "      height: 32px;\n",
              "      padding: 0 0 0 0;\n",
              "      width: 32px;\n",
              "    }\n",
              "\n",
              "    .colab-df-convert:hover {\n",
              "      background-color: #E2EBFA;\n",
              "      box-shadow: 0px 1px 2px rgba(60, 64, 67, 0.3), 0px 1px 3px 1px rgba(60, 64, 67, 0.15);\n",
              "      fill: #174EA6;\n",
              "    }\n",
              "\n",
              "    [theme=dark] .colab-df-convert {\n",
              "      background-color: #3B4455;\n",
              "      fill: #D2E3FC;\n",
              "    }\n",
              "\n",
              "    [theme=dark] .colab-df-convert:hover {\n",
              "      background-color: #434B5C;\n",
              "      box-shadow: 0px 1px 3px 1px rgba(0, 0, 0, 0.15);\n",
              "      filter: drop-shadow(0px 1px 2px rgba(0, 0, 0, 0.3));\n",
              "      fill: #FFFFFF;\n",
              "    }\n",
              "  </style>\n",
              "\n",
              "      <script>\n",
              "        const buttonEl =\n",
              "          document.querySelector('#df-5becb6bf-3e4c-4722-b3d7-366669d5602c button.colab-df-convert');\n",
              "        buttonEl.style.display =\n",
              "          google.colab.kernel.accessAllowed ? 'block' : 'none';\n",
              "\n",
              "        async function convertToInteractive(key) {\n",
              "          const element = document.querySelector('#df-5becb6bf-3e4c-4722-b3d7-366669d5602c');\n",
              "          const dataTable =\n",
              "            await google.colab.kernel.invokeFunction('convertToInteractive',\n",
              "                                                     [key], {});\n",
              "          if (!dataTable) return;\n",
              "\n",
              "          const docLinkHtml = 'Like what you see? Visit the ' +\n",
              "            '<a target=\"_blank\" href=https://colab.research.google.com/notebooks/data_table.ipynb>data table notebook</a>'\n",
              "            + ' to learn more about interactive tables.';\n",
              "          element.innerHTML = '';\n",
              "          dataTable['output_type'] = 'display_data';\n",
              "          await google.colab.output.renderOutput(dataTable, element);\n",
              "          const docLink = document.createElement('div');\n",
              "          docLink.innerHTML = docLinkHtml;\n",
              "          element.appendChild(docLink);\n",
              "        }\n",
              "      </script>\n",
              "    </div>\n",
              "  </div>\n",
              "  "
            ],
            "text/plain": [
              "   pregnancies  glucose  diastolic  triceps  ...   bmi    dpf  age  diabetes\n",
              "0            6      148         72       35  ...  33.6  0.627   50         1\n",
              "1            1       85         66       29  ...  26.6  0.351   31         0\n",
              "2            8      183         64        0  ...  23.3  0.672   32         1\n",
              "3            1       89         66       23  ...  28.1  0.167   21         0\n",
              "4            0      137         40       35  ...  43.1  2.288   33         1\n",
              "\n",
              "[5 rows x 9 columns]"
            ]
          },
          "metadata": {},
          "execution_count": 66
        }
      ]
    },
    {
      "cell_type": "code",
      "source": [
        "sns.heatmap(df.corr(), square=True, cmap='RdYlGn')"
      ],
      "metadata": {
        "colab": {
          "base_uri": "https://localhost:8080/",
          "height": 340
        },
        "id": "cVoE6q_mb2Qm",
        "outputId": "8881bf9f-4950-4fd4-c705-81a3966fae77"
      },
      "execution_count": 67,
      "outputs": [
        {
          "output_type": "execute_result",
          "data": {
            "text/plain": [
              "<matplotlib.axes._subplots.AxesSubplot at 0x7f5c6d5feb50>"
            ]
          },
          "metadata": {},
          "execution_count": 67
        },
        {
          "output_type": "display_data",
          "data": {
            "image/png": "[encoded data removed]",
            "text/plain": [
              "<Figure size 432x288 with 2 Axes>"
            ]
          },
          "metadata": {
            "needs_background": "light"
          }
        }
      ]
    },
    {
      "cell_type": "markdown",
      "source": [
        "#4.KNN Model\n",
        "- train a k-NN classifier to the data and evaluate its performance by generating a confusion matrix and classification report.*italicized text*"
      ],
      "metadata": {
        "id": "B9PkKM_Ob_8b"
      }
    },
    {
      "cell_type": "code",
      "source": [
        "df.columns"
      ],
      "metadata": {
        "colab": {
          "base_uri": "https://localhost:8080/"
        },
        "id": "4Ef_ErC1cz8N",
        "outputId": "edeef181-6e58-40ed-e7f6-0d932b51213a"
      },
      "execution_count": 68,
      "outputs": [
        {
          "output_type": "execute_result",
          "data": {
            "text/plain": [
              "Index(['pregnancies', 'glucose', 'diastolic', 'triceps', 'insulin', 'bmi',\n",
              "       'dpf', 'age', 'diabetes'],\n",
              "      dtype='object')"
            ]
          },
          "metadata": {},
          "execution_count": 68
        }
      ]
    },
    {
      "cell_type": "code",
      "source": [
        "X = df[['pregnancies', 'glucose', 'diastolic', 'triceps', 'insulin', 'bmi', 'dpf', 'age']]\n",
        "y = df[['diabetes']].values.ravel()"
      ],
      "metadata": {
        "id": "xAS3KiEfcu1u"
      },
      "execution_count": 69,
      "outputs": []
    },
    {
      "cell_type": "code",
      "source": [
        "# Create training and test set\n",
        "X_train, X_test, y_train, y_test = train_test_split(X,y,test_size=0.4,random_state=42)"
      ],
      "metadata": {
        "id": "4B3bxbF1gf0f"
      },
      "execution_count": 70,
      "outputs": []
    },
    {
      "cell_type": "code",
      "source": [
        "# Instantiate a k-NN classifier: knn\n",
        "knn = KNeighborsClassifier(6)\n",
        "\n",
        "# Fit the classifier to the training data\n",
        "knn.fit(X_train, y_train)\n",
        "\n",
        "# Predict the labels of the test data: y_pred\n",
        "y_pred = knn.predict(X_test)"
      ],
      "metadata": {
        "id": "ImGe2dp5cExl"
      },
      "execution_count": 71,
      "outputs": []
    },
    {
      "cell_type": "code",
      "source": [
        "cf_matrix = confusion_matrix(y_test,y_pred)\n",
        "\n",
        "group_names = ['True Neg', 'False Pos','False Neg','True Pos']\n",
        "group_counts = [\"{0:0.0f}\".format(value) for value in cf_matrix.flatten()]\n",
        "group_percentages = [\"{0:.2%}\".format(value) for value in cf_matrix.flatten()/np.sum(cf_matrix)]\n",
        "\n",
        "labels = [f\"{v1}\\n{v2}\\n{v3}\" for v1, v2, v3 in zip(group_names,group_counts,group_percentages)]\n",
        "labels = np.asarray(labels).reshape(2,2)\n",
        "\n",
        "sns.heatmap(cf_matrix, annot=labels, fmt='', cmap='Blues')"
      ],
      "metadata": {
        "colab": {
          "base_uri": "https://localhost:8080/",
          "height": 283
        },
        "id": "fOBCSYP4or0T",
        "outputId": "a1bce275-772c-4737-9163-0db9154703b7"
      },
      "execution_count": 72,
      "outputs": [
        {
          "output_type": "execute_result",
          "data": {
            "text/plain": [
              "<matplotlib.axes._subplots.AxesSubplot at 0x7f5c6d103490>"
            ]
          },
          "metadata": {},
          "execution_count": 72
        },
        {
          "output_type": "display_data",
          "data": {
            "image/png": "[encoded data removed]",
            "text/plain": [
              "<Figure size 432x288 with 2 Axes>"
            ]
          },
          "metadata": {
            "needs_background": "light"
          }
        }
      ]
    },
    {
      "cell_type": "markdown",
      "source": [
        "The values returned by the confusion matrix are divided into the following categories:\n",
        "- True Positive (TP): \n",
        "The model predicted positive, and the real value is positive.\n",
        "- True Negative (TN):\n",
        "The model predicted negative, and the real value is negative.\n",
        "- False Positive (FP):\n",
        "The model predicted positive, but the real value is negative (Type I error).\n",
        "- False Negative (FN):\n",
        "The model predicted negative, but the real value is positive (Type II error).\n"
      ],
      "metadata": {
        "id": "cMjZVT0CiecP"
      }
    },
    {
      "cell_type": "code",
      "source": [
        "# Generate the classification report\n",
        "print(classification_report(y_test,y_pred))"
      ],
      "metadata": {
        "colab": {
          "base_uri": "https://localhost:8080/"
        },
        "id": "X0ICOp_jf6cP",
        "outputId": "d0bfdd9d-a794-434f-b570-a96b4e31c1b0"
      },
      "execution_count": 73,
      "outputs": [
        {
          "output_type": "stream",
          "name": "stdout",
          "text": [
            "              precision    recall  f1-score   support\n",
            "\n",
            "           0       0.76      0.85      0.80       206\n",
            "           1       0.61      0.45      0.52       102\n",
            "\n",
            "    accuracy                           0.72       308\n",
            "   macro avg       0.68      0.65      0.66       308\n",
            "weighted avg       0.71      0.72      0.71       308\n",
            "\n"
          ]
        }
      ]
    },
    {
      "cell_type": "markdown",
      "source": [
        "- Accuracy:\n",
        "The accuracy returns the proportion of correct predictions.\n",
        "  - Accuracy = (TP + TN)/(TP + TN + FP + FN) = (66 + 40)/(66 + 40 + 1 + 7)\n",
        "- Precision:\n",
        "The precision returns the proportion of true positives among all the values predicted as positive.\n",
        "  - Precision = TP/(TP + FP)\n",
        "- Recall: The recall returns the proportion of positive values correctly predicted.\n",
        "  - Recall = TP/(TP + FN)\n",
        "- Specificity: The specificity returns the proportion of negative values correctly predicted.\n",
        "  - Specificity: TN/ (TN + FP)\n",
        "- F1-score: The f1-score is the harmonic mean of precision and recall. It is often used to compare classifiers.\n",
        "  - F1-score = (2 x Precision x Recall)/(Precision + Recall)\n",
        "- Support: number of observations for each class.\n",
        "- Macro average: the arithmetic average of a metric between the two classes.\n",
        "  - Macro average(precision) = (p0 + p1)/2 \n",
        "- Weighted average: the weighted average is calculated by dividing sum(metric of interest x weight) by sum(weights).\n",
        "- Here the weights are the number of observation for each class.\n",
        "  - Weighted average (precision)= (p0 x s0 + p1 x s1)/(s0 + s1)"
      ],
      "metadata": {
        "id": "2Lmvpu8HjrwE"
      }
    },
    {
      "cell_type": "markdown",
      "source": [
        "https://medium.com/swlh/confusion-matrix-and-classification-report-88105288d48f"
      ],
      "metadata": {
        "id": "WXaAu3PNoIwS"
      }
    },
    {
      "cell_type": "markdown",
      "source": [
        "Observation: By analyzing the confusion matrix and classification report, you can get a much better understanding of your classifier's performance."
      ],
      "metadata": {
        "id": "JHPkxR_edStr"
      }
    },
    {
      "cell_type": "markdown",
      "source": [
        "#5.Logistic Regression"
      ],
      "metadata": {
        "id": "5rJbsd-SfNeq"
      }
    },
    {
      "cell_type": "code",
      "source": [
        "# Create training and test sets\n",
        "X_train, X_test, y_train, y_test = train_test_split(X, y, test_size = 0.4, random_state=42)\n",
        "\n",
        "# Create the classifier: logreg\n",
        "logreg = LogisticRegression(max_iter=5000)\n",
        "\n",
        "# Fit the classifier to the training data\n",
        "logreg = logreg.fit(X_train, y_train)\n",
        "\n",
        "# Predict the labels of the test set: y_pred\n",
        "y_pred = logreg.predict(X_test)"
      ],
      "metadata": {
        "id": "_IFlYou_v4DZ"
      },
      "execution_count": 74,
      "outputs": []
    },
    {
      "cell_type": "code",
      "source": [
        "cf_matrix = confusion_matrix(y_test,y_pred)\n",
        "\n",
        "group_names = ['True Neg', 'False Pos','False Neg','True Pos']\n",
        "group_counts = [\"{0:0.0f}\".format(value) for value in cf_matrix.flatten()]\n",
        "group_percentages = [\"{0:.2%}\".format(value) for value in cf_matrix.flatten()/np.sum(cf_matrix)]\n",
        "\n",
        "labels = [f\"{v1}\\n{v2}\\n{v3}\" for v1, v2, v3 in zip(group_names,group_counts,group_percentages)]\n",
        "labels = np.asarray(labels).reshape(2,2)\n",
        "\n",
        "sns.heatmap(cf_matrix, annot=labels, fmt='', cmap='Blues')"
      ],
      "metadata": {
        "colab": {
          "base_uri": "https://localhost:8080/",
          "height": 283
        },
        "id": "ZSPj23cuwHP9",
        "outputId": "b4e03f19-5dda-4112-95ea-b203595599e3"
      },
      "execution_count": 75,
      "outputs": [
        {
          "output_type": "execute_result",
          "data": {
            "text/plain": [
              "<matplotlib.axes._subplots.AxesSubplot at 0x7f5c6d0a34d0>"
            ]
          },
          "metadata": {},
          "execution_count": 75
        },
        {
          "output_type": "display_data",
          "data": {
            "image/png": "[encoded data removed]",
            "text/plain": [
              "<Figure size 432x288 with 2 Axes>"
            ]
          },
          "metadata": {
            "needs_background": "light"
          }
        }
      ]
    },
    {
      "cell_type": "code",
      "source": [
        "# Compute and print the confusion matrix and classification report\n",
        "print(classification_report(y_test, y_pred))"
      ],
      "metadata": {
        "colab": {
          "base_uri": "https://localhost:8080/"
        },
        "id": "fEzjr82CwCGB",
        "outputId": "c0b86b3b-35cc-4648-fa8a-fad6de5f83fa"
      },
      "execution_count": 76,
      "outputs": [
        {
          "output_type": "stream",
          "name": "stdout",
          "text": [
            "              precision    recall  f1-score   support\n",
            "\n",
            "           0       0.82      0.82      0.82       206\n",
            "           1       0.63      0.65      0.64       102\n",
            "\n",
            "    accuracy                           0.76       308\n",
            "   macro avg       0.73      0.73      0.73       308\n",
            "weighted avg       0.76      0.76      0.76       308\n",
            "\n"
          ]
        }
      ]
    },
    {
      "cell_type": "markdown",
      "source": [
        "#6.ROC Curve\n",
        "- Classification reports and confusion matrices are great methods to quantitatively evaluate model performance, while ROC curves provide a way to visually evaluate models. "
      ],
      "metadata": {
        "id": "vs_SkHp11I6f"
      }
    },
    {
      "cell_type": "code",
      "source": [
        "from sklearn.metrics import roc_curve\n",
        "\n",
        "# Compute predicted probabilities: y_pred_prob\n",
        "y_pred_prob = logreg.predict_proba(X_test)[:,1]\n",
        "\n",
        "# Generate ROC curve values: fpr, tpr, thresholds\n",
        "fpr, tpr, thresholds = roc_curve(y_test, y_pred_prob)\n",
        "\n",
        "# Plot ROC curve\n",
        "plt.plot([0, 1], [0, 1], 'k--')\n",
        "plt.plot(fpr, tpr)\n",
        "plt.xlabel('False Positive Rate')\n",
        "plt.ylabel('True Positive Rate')\n",
        "plt.title('ROC Curve')\n",
        "plt.show()"
      ],
      "metadata": {
        "colab": {
          "base_uri": "https://localhost:8080/",
          "height": 294
        },
        "id": "R5GGDaHO1L4b",
        "outputId": "c9edd10c-a97f-4779-846c-6faa8d118a25"
      },
      "execution_count": 77,
      "outputs": [
        {
          "output_type": "display_data",
          "data": {
            "image/png": "[encoded data removed]",
            "text/plain": [
              "<Figure size 432x288 with 1 Axes>"
            ]
          },
          "metadata": {
            "needs_background": "light"
          }
        }
      ]
    },
    {
      "cell_type": "code",
      "source": [
        "thresholds"
      ],
      "metadata": {
        "colab": {
          "base_uri": "https://localhost:8080/"
        },
        "id": "SvdSYR9l1Nxs",
        "outputId": "f766432b-c706-45e7-a4d3-0b1559ac8781"
      },
      "execution_count": 78,
      "outputs": [
        {
          "output_type": "execute_result",
          "data": {
            "text/plain": [
              "array([1.97235702, 0.97235702, 0.95540248, 0.89075104, 0.87905516,\n",
              "       0.86626104, 0.86429438, 0.844414  , 0.84441363, 0.83007301,\n",
              "       0.82456073, 0.79476408, 0.79392306, 0.79155966, 0.7824446 ,\n",
              "       0.77862097, 0.77630793, 0.76644603, 0.76130911, 0.71488304,\n",
              "       0.70772265, 0.70323055, 0.70049162, 0.69122832, 0.68388631,\n",
              "       0.68096741, 0.67510348, 0.67138423, 0.67128078, 0.64695283,\n",
              "       0.6462141 , 0.6205076 , 0.59887544, 0.58373542, 0.55515421,\n",
              "       0.54770896, 0.5440545 , 0.53617843, 0.506582  , 0.50128814,\n",
              "       0.48605246, 0.47203968, 0.44369933, 0.43599961, 0.42355985,\n",
              "       0.40635765, 0.40625466, 0.40041784, 0.39580115, 0.39229741,\n",
              "       0.37640399, 0.36726875, 0.35072535, 0.34838758, 0.34236875,\n",
              "       0.34124317, 0.33913619, 0.33555642, 0.32563121, 0.31316587,\n",
              "       0.30838251, 0.30589761, 0.30588992, 0.30376829, 0.279825  ,\n",
              "       0.27427963, 0.26711427, 0.26402038, 0.2565395 , 0.25616816,\n",
              "       0.25603706, 0.25383442, 0.24199929, 0.2398145 , 0.23601348,\n",
              "       0.23054311, 0.22395294, 0.21192344, 0.19611469, 0.19282421,\n",
              "       0.1893124 , 0.18030239, 0.14466794, 0.14061562, 0.13576414,\n",
              "       0.13551845, 0.11677214, 0.11634461, 0.11420193, 0.11365943,\n",
              "       0.07740605, 0.07544134, 0.03348028, 0.03133838, 0.00290412])"
            ]
          },
          "metadata": {},
          "execution_count": 78
        }
      ]
    },
    {
      "cell_type": "code",
      "source": [
        "fpr"
      ],
      "metadata": {
        "colab": {
          "base_uri": "https://localhost:8080/"
        },
        "id": "ny4bZPZg1TSP",
        "outputId": "e71d51c8-3f64-4b32-a289-3c577b10c33a"
      },
      "execution_count": 79,
      "outputs": [
        {
          "output_type": "execute_result",
          "data": {
            "text/plain": [
              "array([0.        , 0.        , 0.00485437, 0.00485437, 0.01456311,\n",
              "       0.01456311, 0.01941748, 0.01941748, 0.02427184, 0.02427184,\n",
              "       0.02912621, 0.02912621, 0.03398058, 0.03398058, 0.04368932,\n",
              "       0.04368932, 0.04854369, 0.04854369, 0.05339806, 0.05339806,\n",
              "       0.05825243, 0.05825243, 0.0631068 , 0.0631068 , 0.06796117,\n",
              "       0.06796117, 0.0776699 , 0.0776699 , 0.08252427, 0.08252427,\n",
              "       0.08737864, 0.08737864, 0.12135922, 0.12135922, 0.1407767 ,\n",
              "       0.1407767 , 0.15533981, 0.15533981, 0.18446602, 0.18446602,\n",
              "       0.2038835 , 0.2038835 , 0.22330097, 0.22330097, 0.22815534,\n",
              "       0.22815534, 0.23300971, 0.23300971, 0.24271845, 0.24271845,\n",
              "       0.25242718, 0.25242718, 0.26699029, 0.26699029, 0.27669903,\n",
              "       0.27669903, 0.2815534 , 0.2815534 , 0.29126214, 0.29126214,\n",
              "       0.30582524, 0.30582524, 0.31067961, 0.31067961, 0.36893204,\n",
              "       0.36893204, 0.37864078, 0.37864078, 0.38349515, 0.38349515,\n",
              "       0.38834951, 0.38834951, 0.4368932 , 0.4368932 , 0.44660194,\n",
              "       0.44660194, 0.46116505, 0.46116505, 0.50485437, 0.50485437,\n",
              "       0.51456311, 0.51456311, 0.58252427, 0.58252427, 0.60194175,\n",
              "       0.60194175, 0.66019417, 0.66019417, 0.67475728, 0.67475728,\n",
              "       0.80582524, 0.80582524, 0.94660194, 0.94660194, 1.        ])"
            ]
          },
          "metadata": {},
          "execution_count": 79
        }
      ]
    },
    {
      "cell_type": "code",
      "source": [
        "tpr"
      ],
      "metadata": {
        "colab": {
          "base_uri": "https://localhost:8080/"
        },
        "id": "WKLfGsg61V9W",
        "outputId": "068dda8b-7c47-4e63-e475-9df927c7a6ec"
      },
      "execution_count": 80,
      "outputs": [
        {
          "output_type": "execute_result",
          "data": {
            "text/plain": [
              "array([0.        , 0.00980392, 0.00980392, 0.08823529, 0.08823529,\n",
              "       0.1372549 , 0.1372549 , 0.16666667, 0.16666667, 0.18627451,\n",
              "       0.18627451, 0.25490196, 0.25490196, 0.2745098 , 0.2745098 ,\n",
              "       0.28431373, 0.28431373, 0.32352941, 0.32352941, 0.38235294,\n",
              "       0.38235294, 0.40196078, 0.40196078, 0.42156863, 0.42156863,\n",
              "       0.43137255, 0.43137255, 0.45098039, 0.45098039, 0.50980392,\n",
              "       0.50980392, 0.54901961, 0.54901961, 0.58823529, 0.58823529,\n",
              "       0.61764706, 0.61764706, 0.62745098, 0.62745098, 0.64705882,\n",
              "       0.64705882, 0.65686275, 0.65686275, 0.67647059, 0.67647059,\n",
              "       0.69607843, 0.69607843, 0.70588235, 0.70588235, 0.71568627,\n",
              "       0.71568627, 0.74509804, 0.74509804, 0.76470588, 0.76470588,\n",
              "       0.7745098 , 0.7745098 , 0.78431373, 0.78431373, 0.80392157,\n",
              "       0.80392157, 0.81372549, 0.81372549, 0.82352941, 0.82352941,\n",
              "       0.83333333, 0.83333333, 0.84313725, 0.84313725, 0.85294118,\n",
              "       0.85294118, 0.87254902, 0.87254902, 0.89215686, 0.89215686,\n",
              "       0.90196078, 0.90196078, 0.91176471, 0.91176471, 0.92156863,\n",
              "       0.92156863, 0.94117647, 0.94117647, 0.95098039, 0.95098039,\n",
              "       0.96078431, 0.96078431, 0.97058824, 0.97058824, 0.98039216,\n",
              "       0.98039216, 0.99019608, 0.99019608, 1.        , 1.        ])"
            ]
          },
          "metadata": {},
          "execution_count": 80
        }
      ]
    },
    {
      "cell_type": "markdown",
      "source": [
        "https://towardsdatascience.com/receiver-operating-characteristic-curves-demystified-in-python-bd531a4364d0"
      ],
      "metadata": {
        "id": "3DuoU3nysqX_"
      }
    },
    {
      "cell_type": "markdown",
      "source": [
        "#7.AUC (Area Under the Curve)"
      ],
      "metadata": {
        "id": "xqXLNVKsw8uA"
      }
    },
    {
      "cell_type": "code",
      "source": [
        "# Compute predicted probabilities: y_pred_prob\n",
        "y_pred_prob = logreg.predict_proba(X_test)[:,1]\n",
        "\n",
        "# Compute and print AUC score\n",
        "print(\"AUC: {}\".format(roc_auc_score(y_test,y_pred_prob)))\n",
        "\n",
        "# Compute cross-validated AUC scores: cv_auc\n",
        "cv_auc = cross_val_score(logreg, X, y, cv=5, scoring='roc_auc')\n",
        "\n",
        "\n",
        "print(\"AUC scores computed using 5-fold cross-validation: {}\".format(cv_auc))"
      ],
      "metadata": {
        "colab": {
          "base_uri": "https://localhost:8080/"
        },
        "id": "17_IloLMw7Gg",
        "outputId": "e8ce88e2-3c48-4ff3-9ad1-6d59c2e84910"
      },
      "execution_count": 81,
      "outputs": [
        {
          "output_type": "stream",
          "name": "stdout",
          "text": [
            "AUC: 0.8243384732533791\n",
            "AUC scores computed using 5-fold cross-validation: [0.81240741 0.80777778 0.82574074 0.87283019 0.84471698]\n"
          ]
        }
      ]
    },
    {
      "cell_type": "markdown",
      "source": [
        "- If the AUC is greater than 0.5, the model is better than random guessing."
      ],
      "metadata": {
        "id": "RmCNrCnO8QBh"
      }
    },
    {
      "cell_type": "markdown",
      "source": [
        "# 8.Hyperparameter tuning with GridSearchCV"
      ],
      "metadata": {
        "id": "Eq6wgo-B-Y-H"
      }
    },
    {
      "cell_type": "code",
      "source": [
        "# Setup the hyperparameter grid\n",
        "c_space = np.logspace(-5, 8, 15)\n",
        "param_grid = {'C': c_space}"
      ],
      "metadata": {
        "id": "jLOkLa4pBah3"
      },
      "execution_count": 91,
      "outputs": []
    },
    {
      "cell_type": "code",
      "source": [
        "# Instantiate a logistic regression classifier: logreg\n",
        "logreg = LogisticRegression(max_iter=1000)\n",
        "\n",
        "# Instantiate the GridSearchCV object: logreg_cv\n",
        "logreg_cv = GridSearchCV(logreg, param_grid, cv=5)\n",
        "\n",
        "# Fit it to the data\n",
        "logreg_cv.fit(X,y)"
      ],
      "metadata": {
        "colab": {
          "base_uri": "https://localhost:8080/"
        },
        "id": "9QsxTt42-ev8",
        "outputId": "b8fd28f6-c714-4901-bbf6-887fba7f4e5e"
      },
      "execution_count": 92,
      "outputs": [
        {
          "output_type": "execute_result",
          "data": {
            "text/plain": [
              "GridSearchCV(cv=5, estimator=LogisticRegression(max_iter=1000),\n",
              "             param_grid={'C': array([1.00000000e-05, 8.48342898e-05, 7.19685673e-04, 6.10540230e-03,\n",
              "       5.17947468e-02, 4.39397056e-01, 3.72759372e+00, 3.16227766e+01,\n",
              "       2.68269580e+02, 2.27584593e+03, 1.93069773e+04, 1.63789371e+05,\n",
              "       1.38949549e+06, 1.17876863e+07, 1.00000000e+08])})"
            ]
          },
          "metadata": {},
          "execution_count": 92
        }
      ]
    },
    {
      "cell_type": "markdown",
      "source": [
        "C controls the inverse of the regularization strength, and this is what you will tune in this exercise. A large C can lead to an overfit model, while a small C can lead to an underfit model."
      ],
      "metadata": {
        "id": "P7rpDjfxBVmC"
      }
    },
    {
      "cell_type": "code",
      "source": [
        "# Print the tuned parameters and score\n",
        "print(\"Tuned Logistic Regression Parameters: {}\".format(logreg_cv.best_params_)) \n",
        "print(\"Best score is {}\".format(logreg_cv.best_score_))"
      ],
      "metadata": {
        "colab": {
          "base_uri": "https://localhost:8080/"
        },
        "id": "0eFPViw1Bfdh",
        "outputId": "9bee2317-2c82-40f2-827a-da6bc3bab5c8"
      },
      "execution_count": 93,
      "outputs": [
        {
          "output_type": "stream",
          "name": "stdout",
          "text": [
            "Tuned Logistic Regression Parameters: {'C': 0.006105402296585327}\n",
            "Best score is 0.7734742381801205\n"
          ]
        }
      ]
    },
    {
      "cell_type": "markdown",
      "source": [
        "You may be wondering why you aren't asked to split the data into training and test sets. Good observation! Here, we want you to focus on the process of setting up the hyperparameter grid and performing grid-search cross-validation."
      ],
      "metadata": {
        "id": "QARpZmkHB_yL"
      }
    },
    {
      "cell_type": "markdown",
      "source": [
        "#9.Hyperparameter tuning with RandomizedSearchCV\n",
        "- GridSearchCV can be computationally expensive, especially if you are searching over a large hyperparameter space and dealing with multiple hyperparameters. A solution to this is to use RandomizedSearchCV, in which not all hyperparameter values are tried out. Instead, a fixed number of hyperparameter settings is sampled from specified probability distributions. \n",
        "-  Note that RandomizedSearchCV will never outperform GridSearchCV. Instead, it is valuable because it saves on computation time."
      ],
      "metadata": {
        "id": "NOT6ijvHCsfv"
      }
    },
    {
      "cell_type": "code",
      "source": [
        "# Setup the parameters and distributions to sample from: param_dist\n",
        "param_dist = {\"max_depth\": [3, None],\n",
        "              \"max_features\": randint(1, 9),\n",
        "              \"min_samples_leaf\": randint(1, 9),\n",
        "              \"criterion\": [\"gini\", \"entropy\"]}\n",
        "\n",
        "# Instantiate a Decision Tree classifier: tree\n",
        "tree = DecisionTreeClassifier()\n",
        "\n",
        "# Instantiate the RandomizedSearchCV object: tree_cv\n",
        "tree_cv = RandomizedSearchCV(tree, param_dist, cv=5)\n",
        "\n",
        "# Fit it to the data\n",
        "tree_cv.fit(X,y)\n",
        "\n",
        "# Print the tuned parameters and score\n",
        "print(\"Tuned Decision Tree Parameters: {}\".format(tree_cv.best_params_))\n",
        "print(\"Best score is {}\".format(tree_cv.best_score_))\n"
      ],
      "metadata": {
        "colab": {
          "base_uri": "https://localhost:8080/"
        },
        "id": "ONcXfpSoCB7x",
        "outputId": "42cdb1ba-d791-4f6d-d03b-954ed9543cfc"
      },
      "execution_count": 95,
      "outputs": [
        {
          "output_type": "stream",
          "name": "stdout",
          "text": [
            "Tuned Decision Tree Parameters: {'criterion': 'entropy', 'max_depth': 3, 'max_features': 6, 'min_samples_leaf': 7}\n",
            "Best score is 0.7474238180120533\n"
          ]
        }
      ]
    },
    {
      "cell_type": "markdown",
      "source": [
        "- note: Decision trees have many parameters that can be tuned, such as max_features, max_depth, and min_samples_leaf: This makes it an ideal use case for RandomizedSearchCV"
      ],
      "metadata": {
        "id": "mcMFDv0EDngF"
      }
    },
    {
      "cell_type": "markdown",
      "source": [
        "The idea is to tune the model's hyperparameters on the training set, and then evaluate its performance on the hold-out set which it has never seen before.\n",
        "\n"
      ],
      "metadata": {
        "id": "bBOQpwxpEGjb"
      }
    },
    {
      "cell_type": "markdown",
      "source": [
        "#10.Hold-out set in practice I: Classification"
      ],
      "metadata": {
        "id": "zBQgdTWPGLuJ"
      }
    },
    {
      "cell_type": "code",
      "source": [
        "# Create the hyperparameter grid\n",
        "c_space = np.logspace(-5, 8, 15)\n",
        "param_grid = {'C': c_space, 'penalty': ['l1', 'l2']}\n",
        "\n",
        "# Instantiate the logistic regression classifier: logreg\n",
        "logreg = LogisticRegression(max_iter=1000, solver='liblinear')\n",
        "\n",
        "# Create train and test sets\n",
        "X_train, X_test, y_train, y_test = train_test_split(X, y, test_size=0.4, random_state=42)\n",
        "\n",
        "# Instantiate the GridSearchCV object: logreg_cv\n",
        "logreg_cv = GridSearchCV(logreg, param_grid, cv=5)\n",
        "\n",
        "# Fit it to the training data\n",
        "logreg_cv.fit(X_train, y_train)\n",
        "\n",
        "# Print the optimal parameters and best score\n",
        "print(\"Tuned Logistic Regression Parameter: {}\".format(logreg_cv.best_params_))\n",
        "print(\"Tuned Logistic Regression Accuracy: {}\".format(logreg_cv.best_score_))\n"
      ],
      "metadata": {
        "colab": {
          "base_uri": "https://localhost:8080/"
        },
        "id": "eL1a-nW-GG85",
        "outputId": "600781c3-f9e4-4d74-f2a9-ed21b5678adf"
      },
      "execution_count": 99,
      "outputs": [
        {
          "output_type": "stream",
          "name": "stdout",
          "text": [
            "Tuned Logistic Regression Parameter: {'C': 3.727593720314938, 'penalty': 'l2'}\n",
            "Tuned Logistic Regression Accuracy: 0.7608695652173914\n"
          ]
        }
      ]
    }
  ]
}