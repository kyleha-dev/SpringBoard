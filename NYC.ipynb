{
  "nbformat": 4,
  "nbformat_minor": 0,
  "metadata": {
    "colab": {
      "name": "NYC.ipynb",
      "provenance": [],
      "collapsed_sections": [],
      "toc_visible": true,
      "mount_file_id": "17c2JD3xaYBpeEsq5A8wqlRvn--_7R0ek",
      "authorship_tag": "ABX9TyPUvE7eSGBymT7q5LBV1PTE",
      "include_colab_link": true
    },
    "kernelspec": {
      "name": "python3",
      "display_name": "Python 3"
    },
    "language_info": {
      "name": "python"
    }
  },
  "cells": [
    {
      "cell_type": "markdown",
      "metadata": {
        "id": "view-in-github",
        "colab_type": "text"
      },
      "source": [
        "<a href=\"https://colab.research.google.com/github/kyleha-dev/Springboard/blob/main/NYC.ipynb\" target=\"_parent\"><img src=\"https://colab.research.google.com/assets/colab-badge.svg\" alt=\"Open In Colab\"/></a>"
      ]
    },
    {
      "cell_type": "markdown",
      "source": [
        "# 1.Import Packages"
      ],
      "metadata": {
        "id": "wCu2zFZIiqZa"
      }
    },
    {
      "cell_type": "code",
      "metadata": {
        "id": "qE0VKYz05maV",
        "colab": {
          "base_uri": "https://localhost:8080/"
        },
        "outputId": "d54ec318-f8ac-4dff-bacf-993c6141116f"
      },
      "source": [
        "from google.colab import drive\n",
        "drive.mount('/content/gdrive', force_remount=True)"
      ],
      "execution_count": 89,
      "outputs": [
        {
          "output_type": "stream",
          "name": "stdout",
          "text": [
            "Mounted at /content/gdrive\n"
          ]
        }
      ]
    },
    {
      "cell_type": "code",
      "source": [
        "import pandas as pd\n",
        "import numpy as np\n",
        "\n",
        "# Visuals\n",
        "import matplotlib.pyplot as plt\n",
        "import matplotlib.dates as mdates\n",
        "from matplotlib.dates import DateFormatter\n",
        "import seaborn as sns\n",
        "\n",
        "# GeoMap\n",
        "from geopy.geocoders import Nominatim\n",
        "from geopy.extra.rate_limiter import RateLimiter\n",
        "from geopy.exc import GeocoderTimedOut"
      ],
      "metadata": {
        "id": "bBQ0IQbpioy8"
      },
      "execution_count": 90,
      "outputs": []
    },
    {
      "cell_type": "markdown",
      "source": [
        "# 2.Data Gathering\n"
      ],
      "metadata": {
        "id": "RyxGKpwvXhhA"
      }
    },
    {
      "cell_type": "markdown",
      "source": [
        "Dataset: https://www1.nyc.gov/site/finance/taxes/property-annualized-sales-update.page"
      ],
      "metadata": {
        "id": "d4ZbQ-1zYQXr"
      }
    },
    {
      "cell_type": "code",
      "source": [
        "def merge(df_manhattan_init, df_queens_init, df_bronx_init, df_brooklyn_init, df_statenisland_init):\n",
        "  # merge all datasets\n",
        "  result = df_manhattan_init.append(df_queens_init).append(df_bronx_init).append(df_brooklyn_init).append(df_statenisland_init)\n",
        "  return result"
      ],
      "metadata": {
        "id": "5ewZ7PrUI41P"
      },
      "execution_count": 91,
      "outputs": []
    },
    {
      "cell_type": "code",
      "source": [
        "def import_2021_datasets():\n",
        "  df_2021_manhattan_init = pd.read_excel('/content/gdrive/MyDrive/ColabNotebooks/NYC/data/2021_rollingsales_manhattan.xlsx')\n",
        "  df_2021_queens_init = pd.read_excel('/content/gdrive/MyDrive/ColabNotebooks/NYC/data/2021_rollingsales_queens.xlsx')\n",
        "  df_2021_bronx_init = pd.read_excel('/content/gdrive/MyDrive/ColabNotebooks/NYC/data/2021_rollingsales_bronx.xlsx')\n",
        "  df_2021_brooklyn_init = pd.read_excel('/content/gdrive/MyDrive/ColabNotebooks/NYC/data/2021_rollingsales_brooklyn.xlsx')\n",
        "  df_2021_statenisland_init = pd.read_excel('/content/gdrive/MyDrive/ColabNotebooks/NYC/data/2021_rollingsales_statenisland.xlsx')\n",
        "\n",
        "  df_2021 = merge(df_2021_manhattan_init, df_2021_queens_init, df_2021_bronx_init, df_2021_brooklyn_init, df_2021_statenisland_init)\n",
        "\n",
        "  return df_2021"
      ],
      "metadata": {
        "id": "PsgWuzM-iqod"
      },
      "execution_count": 92,
      "outputs": []
    },
    {
      "cell_type": "code",
      "source": [
        "def import_2020_datasets():\n",
        "  df_2020_manhattan_init = pd.read_excel('/content/gdrive/MyDrive/ColabNotebooks/NYC/data/2020_rollingsales_manhattan.xlsx')\n",
        "  df_2020_queens_init = pd.read_excel('/content/gdrive/MyDrive/ColabNotebooks/NYC/data/2020_rollingsales_queens.xlsx')\n",
        "  df_2020_bronx_init = pd.read_excel('/content/gdrive/MyDrive/ColabNotebooks/NYC/data/2020_rollingsales_bronx.xlsx')\n",
        "  df_2020_brooklyn_init = pd.read_excel('/content/gdrive/MyDrive/ColabNotebooks/NYC/data/2020_rollingsales_brooklyn.xlsx')\n",
        "  df_2020_statenisland_init = pd.read_excel('/content/gdrive/MyDrive/ColabNotebooks/NYC/data/2020_rollingsales_statenisland.xlsx')\n",
        "\n",
        "  df_2020 = merge(df_2020_manhattan_init, df_2020_queens_init, df_2020_bronx_init, df_2020_brooklyn_init, df_2020_statenisland_init)\n",
        "\n",
        "  return  df_2020"
      ],
      "metadata": {
        "id": "ojLTK9FC9_Q-"
      },
      "execution_count": 93,
      "outputs": []
    },
    {
      "cell_type": "code",
      "source": [
        "def import_2019_datasets():\n",
        "  df_2019_manhattan_init = pd.read_excel('/content/gdrive/MyDrive/ColabNotebooks/NYC/data/2019_rollingsales_manhattan.xlsx')\n",
        "  df_2019_queens_init = pd.read_excel('/content/gdrive/MyDrive/ColabNotebooks/NYC/data/2019_rollingsales_queens.xlsx')\n",
        "  df_2019_bronx_init = pd.read_excel('/content/gdrive/MyDrive/ColabNotebooks/NYC/data/2019_rollingsales_bronx.xlsx')\n",
        "  df_2019_brooklyn_init = pd.read_excel('/content/gdrive/MyDrive/ColabNotebooks/NYC/data/2019_rollingsales_brooklyn.xlsx')\n",
        "  df_2019_statenisland_init = pd.read_excel('/content/gdrive/MyDrive/ColabNotebooks/NYC/data/2019_rollingsales_statenisland.xlsx')\n",
        "\n",
        "  df_2019 = merge(df_2019_manhattan_init, df_2019_queens_init, df_2019_bronx_init, df_2019_brooklyn_init, df_2019_statenisland_init)\n",
        "\n",
        "  return df_2019"
      ],
      "metadata": {
        "id": "kvA9evy6tmEI"
      },
      "execution_count": 94,
      "outputs": []
    },
    {
      "cell_type": "code",
      "source": [
        "df_2021 = import_2021_datasets()"
      ],
      "metadata": {
        "id": "oq2KGCxAIIfP"
      },
      "execution_count": null,
      "outputs": []
    },
    {
      "cell_type": "code",
      "source": [
        "df_2020 = import_2020_datasets()"
      ],
      "metadata": {
        "id": "lC5LeD-6-KxF"
      },
      "execution_count": null,
      "outputs": []
    },
    {
      "cell_type": "code",
      "source": [
        "df_2019 = import_2019_datasets()"
      ],
      "metadata": {
        "id": "BRk_hTx6tx7e"
      },
      "execution_count": null,
      "outputs": []
    },
    {
      "cell_type": "code",
      "source": [
        "df_2021.head()"
      ],
      "metadata": {
        "id": "oAxcBqKMO4yL"
      },
      "execution_count": null,
      "outputs": []
    },
    {
      "cell_type": "code",
      "source": [
        "df_2020.head()"
      ],
      "metadata": {
        "id": "FvgNqdrI8hkG"
      },
      "execution_count": null,
      "outputs": []
    },
    {
      "cell_type": "code",
      "source": [
        "df = df_2021.append(df_2020).append(df_2019)"
      ],
      "metadata": {
        "id": "IASoQ15aJu8Z"
      },
      "execution_count": null,
      "outputs": []
    },
    {
      "cell_type": "code",
      "source": [
        "df.head()"
      ],
      "metadata": {
        "id": "w9Ju-DLd9l1e"
      },
      "execution_count": null,
      "outputs": []
    },
    {
      "cell_type": "markdown",
      "source": [
        "# 3.Data Briefing\n"
      ],
      "metadata": {
        "id": "3VmzGYmlHuIx"
      }
    },
    {
      "cell_type": "code",
      "source": [
        "print(len(df.columns))\n",
        "print(df.columns)"
      ],
      "metadata": {
        "id": "GVymlXJ8lqgF"
      },
      "execution_count": null,
      "outputs": []
    },
    {
      "cell_type": "code",
      "source": [
        "df.info()"
      ],
      "metadata": {
        "id": "4Gb5VKs1AZrL"
      },
      "execution_count": null,
      "outputs": []
    },
    {
      "cell_type": "code",
      "source": [
        "def format_df(df):\n",
        "  #init \n",
        "  df_formatting = df\n",
        "  \n",
        "  # Drop EASEMENT and index\n",
        "  df_formatting = df_formatting.drop('EASEMENT', 1).drop('EASE-MENT', 1)\n",
        "\n",
        "  # Convert to numeric\n",
        "  cols_to_numerics = ['BLOCK','LOT','COMMERCIAL UNITS', 'TOTAL UNITS','LAND SQUARE FEET','GROSS SQUARE FEET','SALE PRICE','YEAR BUILT','BOROUGH','ZIP CODE']\n",
        "  df_formatting[cols_to_numerics] = df_formatting[cols_to_numerics].apply(pd.to_numeric)\n",
        "  ## 'YEAR BUILT TENS'\n",
        "  df_formatting['YEAR BUILT TENS'] = df_formatting['YEAR BUILT'] - df_formatting['YEAR BUILT']%10\n",
        "  \n",
        "  # Convert to DateTime\n",
        "  cols_to_dateTime = ['SALE DATE']\n",
        "  df_formatting[cols_to_dateTime] = df[cols_to_dateTime].apply(pd.to_datetime)\n",
        "\n",
        "  # Get Month/Year from 'SALE DATE'\n",
        "  df_formatting['SALE MONTH'] = df_formatting['SALE DATE'].dt.month\n",
        "  df_formatting['SALE YEAR'] = df_formatting['SALE DATE'].dt.year\n",
        "  df_formatting['SALE MONTH/YEAR'] = df_formatting['SALE MONTH'].astype(str) + \"/\" + df_formatting['SALE YEAR'].astype(str)\n",
        "\n",
        "  # Convert to Categories\n",
        "  cols_to_categories = ['BUILDING CLASS CATEGORY','TAX CLASS AT TIME OF SALE','BUILDING CLASS AT PRESENT', 'BUILDING CLASS AT TIME OF SALE']\n",
        "  df_formatting[cols_to_categories] = df_formatting[cols_to_categories].apply(pd.Categorical)\n",
        "  \n",
        "  # Get first character of 'BUILDING CLASS AT TIME OF SALE' - https://www.propertyshark.com/mason/text/nyc_building_class.html\n",
        "  df_formatting['BUILDING CLASS AT TIME OF SALE CATEGORY'] = df_formatting['BUILDING CLASS AT TIME OF SALE'].astype(str).str[0]\n",
        "\n",
        "  #### Add-ons\n",
        "  \n",
        "  #### #### 1. Get Geolocation of logitute and latitude based on the address we have\n",
        "  #### #### #### - Obstacle: I tried with the address column but errors such as 5th/ 2nd without 'th' causes error, or even with apt numbers attached on it.\n",
        "\n",
        "  #### #### 2. Get one more dataframe from Zillow by iterating through the address we have\n",
        "  #### #### #### - Obstacle: This will be time consuming, but this will give insight of investment of houses as well. (Zestimate)\n",
        "\n",
        "  ####\n",
        "\n",
        "  #result\n",
        "  df_formatted = df_formatting.reset_index(drop=True)\n",
        "\n",
        "  return df_formatted"
      ],
      "metadata": {
        "id": "_w6GDa2XZy0V"
      },
      "execution_count": null,
      "outputs": []
    },
    {
      "cell_type": "code",
      "source": [
        "df_formatted = format_df(df)\n",
        "df_formatted.info()"
      ],
      "metadata": {
        "id": "7PNa38d6aixU"
      },
      "execution_count": null,
      "outputs": []
    },
    {
      "cell_type": "code",
      "source": [
        "pd.set_option(\"display.max_rows\", None)\n",
        "\n",
        "print(df_formatted[['BUILDING CLASS CATEGORY']].value_counts())\n",
        "print(df_formatted[['BUILDING CLASS AT TIME OF SALE CATEGORY']].value_counts())\n",
        "print(df_formatted[['BUILDING CLASS AT TIME OF SALE']].value_counts())"
      ],
      "metadata": {
        "id": "e48rZ75-Brpd"
      },
      "execution_count": null,
      "outputs": []
    },
    {
      "cell_type": "code",
      "source": [
        "for col in df_formatted.columns:\n",
        "  print('--------------------------')\n",
        "  print(col)\n",
        "  print(df_formatted[col].value_counts().size)   \n",
        "  print(df_formatted[col].value_counts().head(50))\n",
        "  print('--------------------------')"
      ],
      "metadata": {
        "id": "iQ5VhFofohUY"
      },
      "execution_count": null,
      "outputs": []
    },
    {
      "cell_type": "markdown",
      "source": [
        "# 4.Data Visualization\n"
      ],
      "metadata": {
        "id": "kLvAu4_NfjaL"
      }
    },
    {
      "cell_type": "code",
      "source": [
        "df_target = df_formatted[df_formatted['BUILDING CLASS CATEGORY'].isin(df_formatted['BUILDING CLASS CATEGORY'].value_counts().head(15).keys())]\n",
        "df_target = df_target[df_target['BUILDING CLASS AT TIME OF SALE CATEGORY'].isin(['A','B','C','D','R'])]"
      ],
      "metadata": {
        "id": "JXCaJSdnsAaS"
      },
      "execution_count": null,
      "outputs": []
    },
    {
      "cell_type": "code",
      "source": [
        "df_target.head()"
      ],
      "metadata": {
        "id": "iuK5zGpCQ_pE"
      },
      "execution_count": null,
      "outputs": []
    },
    {
      "cell_type": "code",
      "source": [
        "#Residential areas\n",
        "#BUILDING CLASS AT SALE those starts with A,B,C,D,R\n",
        "#https://www.propertyshark.com/mason/text/nyc_building_class.html\n",
        "\n",
        "#['BUILDING CLASS AT TIME OF SALE']"
      ],
      "metadata": {
        "id": "Vf4HjWcQECZx"
      },
      "execution_count": null,
      "outputs": []
    },
    {
      "cell_type": "code",
      "source": [
        "# test exploration\n",
        "# df_target = df_target[df_target['BUILDING CLASS CATEGORY']=='13 CONDOS - ELEVATOR APARTMENTS']"
      ],
      "metadata": {
        "id": "r_uc799P_WJG"
      },
      "execution_count": null,
      "outputs": []
    },
    {
      "cell_type": "code",
      "source": [
        "var = sns.histplot(x='YEAR BUILT', data=df_target)\n",
        "plt.xlim(1895,2022)"
      ],
      "metadata": {
        "id": "s3GFeWP2y4FC"
      },
      "execution_count": null,
      "outputs": []
    },
    {
      "cell_type": "code",
      "source": [
        "def histogram_yearbuilt_year_separation():\n",
        "  g = sns.displot(data= df_target, x='YEAR BUILT',  kde=False, col=\"SALE YEAR\", hue=\"SALE YEAR\", multiple=\"stack\")\n",
        "\n",
        "  g.fig.set_figwidth(25)\n",
        "  plt.xlim(1895,2022)\n",
        "  plt.show()"
      ],
      "metadata": {
        "id": "lLiold_t5NSW"
      },
      "execution_count": null,
      "outputs": []
    },
    {
      "cell_type": "code",
      "source": [
        "def histogram_yearbuilt_year_stacked():\n",
        "  g = sns.displot(data= df_target, x='YEAR BUILT',  kde=False, hue=\"SALE YEAR\", multiple=\"stack\")\n",
        "  \n",
        "  g.fig.set_figwidth(25)\n",
        "  plt.xlim(1895,2022)\n",
        "  plt.show()"
      ],
      "metadata": {
        "id": "4YJ-_3c55lwQ"
      },
      "execution_count": null,
      "outputs": []
    },
    {
      "cell_type": "code",
      "source": [
        "def histogram_yearbuilt_year_kde():\n",
        "  g = sns.displot(data= df_target, x='YEAR BUILT',  kind='kde', hue=\"SALE YEAR\")\n",
        "\n",
        "  g.fig.set_figwidth(25)\n",
        "  plt.xlim(1895,2022)\n",
        "  plt.show()\n"
      ],
      "metadata": {
        "id": "YZz8hgkY_8IZ"
      },
      "execution_count": null,
      "outputs": []
    },
    {
      "cell_type": "code",
      "source": [
        "def histogram_yearbuilt_year_ecdf():\n",
        "  g = sns.displot(data= df_target, x='YEAR BUILT',  kind='ecdf', hue=\"SALE YEAR\")\n",
        "  \n",
        "  g.fig.set_figwidth(25)\n",
        "  plt.xlim(1895,2022)\n",
        "  plt.show()\n"
      ],
      "metadata": {
        "id": "PFHVgyk8ALSy"
      },
      "execution_count": null,
      "outputs": []
    },
    {
      "cell_type": "code",
      "source": [
        "def yearbuilt_visualization():\n",
        "  #histogram_yearbuilt_year_separation() #Although this graph is helpful KDE&ECDF sums up nicely\n",
        "  #histogram_yearbuilt_year_stacked() #Although this graph is helpful KDE&ECDF sums up nicely\n",
        "  histogram_yearbuilt_year_kde()\n",
        "  histogram_yearbuilt_year_ecdf()\n",
        "\n",
        "yearbuilt_visualization()\n",
        "print(\"Observation: Throughout 2019 and 2021, the most popular time phrase is 1920 - 1930\")\n",
        "print(\"                                       the second peak is in 1960s\")\n",
        "print(\"                                       the third peak is in 2020s\")\n",
        "\n",
        "print(\"All three years has fairly similar distribution of each years per sold occurances\")"
      ],
      "metadata": {
        "id": "6oX38mNQxwNk"
      },
      "execution_count": null,
      "outputs": []
    },
    {
      "cell_type": "code",
      "source": [
        "def histogram_yearbuilt_borough_kde(year, borough, summary = 0):\n",
        "\n",
        "  neighborhood = df_target[\"NEIGHBORHOOD\"].value_counts().head(25).index.tolist()\n",
        "\n",
        "  if summary == 1:\n",
        "    hue = \"BOROUGH\"\n",
        "  elif summary == 2:\n",
        "    hue = \"NEIGHBORHOOD\"  \n",
        "  else:\n",
        "    hue = \"SALE YEAR\"\n",
        "\n",
        "  g = sns.displot(data= df_target.query(\"`SALE YEAR` in @year and `BOROUGH` in @borough and `NEIGHBORHOOD` in @neighborhood\"), x='YEAR BUILT',  kind='kde', hue=hue)\n",
        "\n",
        "  g.fig.set_figwidth(25)\n",
        "  plt.xlim(1895,2022)\n",
        "  plt.show()\n"
      ],
      "metadata": {
        "id": "LLMhmvt2fMrG"
      },
      "execution_count": null,
      "outputs": []
    },
    {
      "cell_type": "code",
      "source": [
        "def histogram_yearbuilt_borough_ecdf(year, borough, neighborhood, summary = 0):\n",
        "\n",
        "  neighborhood = df_target[\"NEIGHBORHOOD\"].value_counts().head(25).index.tolist()\n",
        "\n",
        "  if summary == 1:\n",
        "    hue = \"BOROUGH\"\n",
        "  elif summary == 2:\n",
        "    hue = \"NEIGHBORHOOD\"  \n",
        "  else:\n",
        "    hue = \"SALE YEAR\"\n",
        "    \n",
        "  g = sns.displot(data= df_target.query(\"`SALE YEAR` in @year and `BOROUGH` in @borough and `NEIGHBORHOOD` in @neighborhood\"), x='YEAR BUILT',  kind='ecdf', hue=hue)\n",
        "  \n",
        "  g.fig.set_figwidth(25)\n",
        "  plt.xlim(1895,2022)\n",
        "  plt.show()\n"
      ],
      "metadata": {
        "id": "WC__v8mqfORr"
      },
      "execution_count": null,
      "outputs": []
    },
    {
      "cell_type": "code",
      "source": [
        "def yearbuilt_borough_visualization():\n",
        "  histogram_yearbuilt_borough_kde([2019,2020,2021],[1,2,3,4,5], 0)\n",
        "  #histogram_yearbuilt_borough_ecdf([2019,2020,2021],[1,2,3,4,5],1)\n",
        "\n",
        "  detail = 1\n",
        "\n",
        "  if detail == 1:\n",
        "    summary = 2\n",
        "    histogram_yearbuilt_borough_kde([2019,2020,2021],[1],summary)\n",
        "    #histogram_yearbuilt_borough_ecdf([2019,2020,2021],[1])\n",
        "\n",
        "    histogram_yearbuilt_borough_kde([2019,2020,2021],[2],summary)\n",
        "    #histogram_yearbuilt_borough_ecdf([2019,2020,2021],[2])\n",
        "\n",
        "    histogram_yearbuilt_borough_kde([2019,2020,2021],[3],summary)\n",
        "    #histogram_yearbuilt_borough_ecdf([2019,2020,2021],[3])\n",
        "\n",
        "    histogram_yearbuilt_borough_kde([2019,2020,2021],[4],summary)\n",
        "    #histogram_yearbuilt_borough_ecdf([2019,2020,2021],[4])\n",
        "\n",
        "    histogram_yearbuilt_borough_kde([2019,2020,2021],[5],summary)\n",
        "    #histogram_yearbuilt_borough_ecdf([2019,2020,2021],[5])\n",
        "\n",
        "\n",
        "yearbuilt_borough_visualization()"
      ],
      "metadata": {
        "id": "y2RntGLXfA6j"
      },
      "execution_count": null,
      "outputs": []
    },
    {
      "cell_type": "code",
      "source": [
        "neighborhood = df_target[\"NEIGHBORHOOD\"].value_counts().head(25).index.tolist()\n",
        "\n",
        "for n in neighborhood:\n",
        "  # Increase the size of the heatmap.\n",
        "  plt.figure(figsize=(16, 6))\n",
        "\n",
        "  # Store heatmap object in a variable to easily access it when you want to include more features (such as title).\n",
        "  # Set the range of values to be displayed on the colormap from -1 to 1, and set the annotation to True to display the correlation values on the heatmap.\n",
        "  heatmap = sns.heatmap(df_target[df_target[\"NEIGHBORHOOD\"]==n].corr(), vmin=-1, vmax=1, annot=True, cmap='BrBG')\n",
        "\n",
        "  # Give a title to the heatmap. Pad defines the distance of the title from the top of the heatmap.\n",
        "  heatmap.set_title(n, fontdict={'fontsize':12}, pad=12);"
      ],
      "metadata": {
        "id": "Avytow88uuMU"
      },
      "execution_count": null,
      "outputs": []
    },
    {
      "cell_type": "code",
      "source": [
        "df_calendar = df_target.set_index(\"SALE DATE\")\n",
        "df_calendar.head()"
      ],
      "metadata": {
        "id": "Z4r0gvYMMMHo"
      },
      "execution_count": null,
      "outputs": []
    },
    {
      "cell_type": "code",
      "source": [
        "g = sns.relplot(data=df_target, x=\"SALE MONTH\", y=\"SALE PRICE\", col=\"SALE YEAR\",row=\"BOROUGH\", kind=\"line\")\n",
        "g.fig.set_figheight(40)\n",
        "g.fig.set_figwidth(40)"
      ],
      "metadata": {
        "id": "sMUIzss5LV6v"
      },
      "execution_count": null,
      "outputs": []
    },
    {
      "cell_type": "code",
      "source": [
        "sns.relplot(x=\"SALE MONTH\", y=\"SALE PRICE\", data=df_target, kind=\"line\",hue=\"BOROUGH\", col=\"BUILDING CLASS CATEGORY\",col_wrap=3, facet_kws=dict(sharey=False))"
      ],
      "metadata": {
        "id": "BrcaBNksh8Iw"
      },
      "execution_count": null,
      "outputs": []
    },
    {
      "cell_type": "code",
      "source": [
        ""
      ],
      "metadata": {
        "id": "reTNrn3TKeYm"
      },
      "execution_count": null,
      "outputs": []
    },
    {
      "cell_type": "markdown",
      "source": [
        "#5.Modeling\n"
      ],
      "metadata": {
        "id": "-zjRbII_KenK"
      }
    },
    {
      "cell_type": "markdown",
      "source": [
        "## 0. Simple Basic Model"
      ],
      "metadata": {
        "id": "xoODuFRtKl2T"
      }
    },
    {
      "cell_type": "code",
      "source": [
        "# Goal is to create a simple regression model."
      ],
      "metadata": {
        "id": "RAAn2SFlKp6N"
      },
      "execution_count": null,
      "outputs": []
    },
    {
      "cell_type": "code",
      "source": [
        ""
      ],
      "metadata": {
        "id": "cF9KST7sKjZM"
      },
      "execution_count": null,
      "outputs": []
    }
  ]
}